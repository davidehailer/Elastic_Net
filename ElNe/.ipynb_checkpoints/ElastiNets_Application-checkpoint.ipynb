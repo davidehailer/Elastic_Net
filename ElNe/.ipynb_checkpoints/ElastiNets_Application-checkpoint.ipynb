{
 "cells": [
  {
   "cell_type": "code",
   "execution_count": 485,
   "metadata": {},
   "outputs": [],
   "source": [
    "import pandas as pd\n",
    "import numpy as np\n",
    "import sklearn.linear_model as lm\n",
    "import sklearn.preprocessing as pp\n",
    "from sklearn.linear_model import ElasticNetCV\n",
    "from sklearn.linear_model import ElasticNet\n",
    "from sklearn.linear_model import LassoCV\n",
    "from sklearn.linear_model import RidgeCV\n",
    "from sklearn.linear_model import LinearRegression"
   ]
  },
  {
   "cell_type": "code",
   "execution_count": 349,
   "metadata": {},
   "outputs": [
    {
     "data": {
      "text/plain": [
       "(7128, 72)"
      ]
     },
     "execution_count": 349,
     "metadata": {},
     "output_type": "execute_result"
    }
   ],
   "source": [
    "data = pd.read_csv(\"Microarray.csv\")\n"
   ]
  },
  {
   "cell_type": "markdown",
   "metadata": {},
   "source": [
    "In the following I will look at the applications of the elastic net with both simulated and real world data.In the simulation part I will simuled data from the true linear model $y = X \\beta + \\epsilon$ with $\\epsilon \\sim N(0,\\sigma)$."
   ]
  },
  {
   "cell_type": "code",
   "execution_count": 530,
   "metadata": {},
   "outputs": [],
   "source": []
  },
  {
   "cell_type": "markdown",
   "metadata": {},
   "source": [
    "1.) Variable Selection:\n",
    "I simulate a training data set of 50(n) observations. Here we set $\\beta = (3,2,7,0,0,0,0,8)^T$ and sigma to 1\n"
   ]
  },
  {
   "cell_type": "code",
   "execution_count": 610,
   "metadata": {},
   "outputs": [],
   "source": [
    "np.random.seed(31)\n",
    "n = 150\n",
    "sigma = 0.5\n",
    "x1 = np.random.normal(0,1,n)\n",
    "x2 = np.random.normal(0,1,n)\n",
    "x3 = np.random.normal(0,1,n)\n",
    "x4 = np.random.normal(0,1,n)\n",
    "x5 = np.random.normal(0,1,n)\n",
    "x6 = np.random.normal(0,1,n)\n",
    "x7 = np.random.normal(0,1,n)\n",
    "x8 = np.random.normal(0,1,n)\n",
    "y = np.random.normal(3*x1 + 2*x2 +7*x3+ 1*x8, sigma,n)\n",
    "X = np.transpose(np.array([x1,x2,x3,x4,x5,x6,x7,x8]))\n"
   ]
  },
  {
   "cell_type": "code",
   "execution_count": 611,
   "metadata": {},
   "outputs": [
    {
     "name": "stdout",
     "output_type": "stream",
     "text": [
      "OLS:\n",
      "[ 3.04158769e+00  2.06608853e+00  6.96948477e+00  1.69008424e-02\n",
      " -4.35105718e-03  7.80175390e-03 -1.69413375e-02  1.00095354e+00]\n",
      "Lasso:\n",
      "[ 3.01914921  2.04554651  6.95279682  0.         -0.          0.\n",
      " -0.          0.97457422]\n",
      "Ridge:\n",
      "[2.82702563e+00 1.95708135e+00 6.35580050e+00 2.58448337e-02\n",
      " 2.74587921e-03 8.40573813e-02 1.99277950e-02 8.74039288e-01]\n",
      "Elastic Net:\n",
      "[ 2.97883096  2.03228098  6.80403957  0.01253205 -0.          0.02248958\n",
      " -0.          0.95848321]\n"
     ]
    }
   ],
   "source": [
    "OLS = LinearRegression().fit(X,y)\n",
    "print(\"OLS:\")\n",
    "print(OLS.coef_)\n",
    "Lasso = LassoCV(normalize = True).fit(X,y)\n",
    "print(\"Lasso:\")\n",
    "print(Lasso.coef_)\n",
    "Ridge = RidgeCV(normalize = True).fit(X,y)\n",
    "print(\"Ridge:\")\n",
    "print(Ridge.coef_)\n",
    "l1ratio = [0.8]\n",
    "ElasticNet = ElasticNetCV(l1_ratio = l1ratio, cv = 10, normalize = True).fit(X,y)\n",
    "print(\"Elastic Net:\")\n",
    "print(ElasticNet.coef_)"
   ]
  },
  {
   "cell_type": "markdown",
   "metadata": {},
   "source": [
    "We can see that the Elastic Net performs variable selection as it sets several insignificant varibles to exactly zero, but keeps more variables in the model compared to lasso regression due to the grouping effect."
   ]
  },
  {
   "cell_type": "markdown",
   "metadata": {},
   "source": [
    "2.) Variable Selection\n",
    "To demonstrate the grouping effect we first simulate two variables $Z_1,Z_2 \\sim U(-10,10)$ and then define the predictors in the following way : $(x_1,x_2,x_3,x_4,x_6)^T = (Z_1 + \\epsilon, Z_1 + \\epsilon, Z_2 + \\epsilon, Z_2 + \\epsilon, Z_2 + \\epsilon, -Z_1 + \\epsilon)^T$ with $\\epsilon \\sim N(0,0.001)$ and simulate the dependent variable as $y \\sim N(20\\cdot Z_1 + 0,4 \\cdot Z_2, 10)$. Now we have to groups of variables $x_1,x_2,x_6$ and $x_3, x_4, x_5$ that have a correlation of almost 1 (or -1) within their group and are practically uncorellated between the groups. And the group with $Z_1$ is much more significant and should receive a higher value. "
   ]
  },
  {
   "cell_type": "code",
   "execution_count": 319,
   "metadata": {},
   "outputs": [],
   "source": [
    "n_g = 2000\n",
    "sigma = 10\n",
    "Z1 = np.random.uniform(-10,10,n_g)\n",
    "Z2 = np.random.uniform(-10,10,n_g)\n",
    "x_1 = Z1 + np.random.normal(0, 0.01,n_g)\n",
    "x_2 = Z1 + np.random.normal(0, 0.01,n_g)\n",
    "x_3 = Z2 + np.random.normal(0, 0.01,n_g)\n",
    "x_4 = Z2 + np.random.normal(0, 0.01,n_g)\n",
    "x_5 = Z2 + np.random.normal(0, 0.01,n_g)\n",
    "x_6 = -Z1 + np.random.normal(0, 0.01,n_g)\n",
    "y_gr = np.random.normal(20* Z1 + 0.4 * Z2, sigma)\n",
    "X_gr = np.transpose(np.matrix([x_1,x_2,x_3,x_4,x_5,x_6]))"
   ]
  },
  {
   "cell_type": "code",
   "execution_count": 321,
   "metadata": {},
   "outputs": [
    {
     "name": "stdout",
     "output_type": "stream",
     "text": [
      "Lasso:\n",
      "[ 1.99790534e+01  1.12533783e-04  4.34086883e-01  3.15977019e-04\n",
      "  0.00000000e+00 -1.35523677e-04]\n",
      "Elastic Net:\n",
      "[ 2.4541182   2.4543319   0.0961865   0.09612364  0.09633112 -2.45419741]\n"
     ]
    }
   ],
   "source": [
    "Lasso = LassoCV(normalize = True).fit(X_gr,y_gr)\n",
    "print(\"Lasso:\")\n",
    "print(Lasso.coef_)\n",
    "l1ratio = [0.5]\n",
    "#[0.01 ,0.05, 0.9, 0.25, 0.5, 0.75, 0.91, 0.95, 0.99]\n",
    "ElasticNet = ElasticNetCV(l1_ratio = l1ratio, cv = 10, normalize = True).fit(X_gr,y_gr)\n",
    "print(\"Elastic Net:\")\n",
    "print(ElasticNet.coef_)"
   ]
  },
  {
   "cell_type": "markdown",
   "metadata": {},
   "source": [
    "As we can see the elastic net assigns the variables of the same groups a similar value \n",
    "(which demonstrates the grouping effect), were the lasso does not recognize these groups as it assigns them different values."
   ]
  },
  {
   "cell_type": "markdown",
   "metadata": {},
   "source": []
  },
  {
   "cell_type": "code",
   "execution_count": 317,
   "metadata": {},
   "outputs": [],
   "source": [
    "n = 200\n",
    "cov = np.full((3,3),0.98)\n",
    "np.fill_diagonal(cov, 1)\n",
    "\n",
    "g1 = np.random.multivariate_normal(np.zeros(3), cov, size=n)\n",
    "g2 = np.random.multivariate_normal(np.zeros(3), cov, size=n)\n",
    "g3 = np.random.multivariate_normal(np.zeros(3), cov, size=n)\n",
    "g4 = np.random.multivariate_normal(np.zeros(3), cov, size=n)\n",
    "g5 = np.random.multivariate_normal(np.zeros(3), cov, size=n)\n",
    "y_gr = np.random.normal(1*(g1[:,0] + g1[:,1] + g1[:,2])+ 2*(g2[:,0] + g2[:,1] + g2[:,2])+ 3*(g3[:,0] + g3[:,1] + g3[:,2])\n",
    "                    + 0*(g4[:,0] + g4[:,1] + g4[:,2])+ 4*(g5[:,0] + g5[:,1] + g5[:,2]) , 0.7, n)\n",
    "X_gr = np.concatenate((g1,g2,g3,g4,g5),1)"
   ]
  },
  {
   "cell_type": "code",
   "execution_count": 318,
   "metadata": {},
   "outputs": [
    {
     "name": "stdout",
     "output_type": "stream",
     "text": [
      "[ 0.8892953   0.65275176  1.38773351  2.08165082  2.57911142  1.30259763\n",
      "  2.69745244  3.65040645  2.69485969 -0.01814988 -0.         -0.\n",
      "  4.27210722  3.69646454  3.91036039]\n",
      "[ 0.89504598  0.73476175  1.30459415  2.04854325  2.43876317  1.47880161\n",
      "  2.80239202  3.46665631  2.76705388 -0.15484277  0.11846419  0.01439596\n",
      "  4.18634867  3.77720022  3.89910931]\n",
      "[ 0.92907799  0.76990816  1.2183975   1.98822989  2.3775609   1.5801336\n",
      "  2.81642157  3.35094091  2.83686919 -0.01407784 -0.         -0.\n",
      "  4.11620939  3.80215432  3.90873485]\n",
      "0.02038784207409802\n",
      "0.5\n"
     ]
    }
   ],
   "source": [
    "#OLS_gr = LinearRegression().fit(X_gr,y_gr)\n",
    "#print(OLS_gr.coef_)\n",
    "Lasso_gr = LassoCV().fit(X_gr,y_gr)\n",
    "print(Lasso_gr.coef_)\n",
    "Ridge_gr = RidgeCV().fit(X_gr,y_gr)\n",
    "print(Ridge_gr.coef_)\n",
    "l1ratio = [0.01 ,0.05, 0.9, 0.25, 0.5, 0.75, 0.91, 0.95, 0.99]\n",
    "ElasticNet_gr = ElasticNetCV(l1_ratio = l1ratio, cv = 5).fit(X_gr,y_gr)\n",
    "print(ElasticNet_gr.coef_)\n",
    "print(ElasticNet_gr.alpha_)\n",
    "print(ElasticNet_gr.l1_ratio_)"
   ]
  },
  {
   "cell_type": "code",
   "execution_count": 474,
   "metadata": {},
   "outputs": [],
   "source": [
    "X_train = np.transpose(data.iloc[:,:36])\n",
    "X_test = np.transpose(data.iloc[:,36:])\n",
    "#ALL: 1 / AML = 0\n",
    "y_train = np.array(np.ones(36))\n",
    "y_train[20:34] = 0\n",
    "#34 hier oben\n",
    "y_test = np.array(np.ones(36))\n",
    "y_test[25:] = 0"
   ]
  },
  {
   "cell_type": "code",
   "execution_count": 484,
   "metadata": {
    "scrolled": true
   },
   "outputs": [
    {
     "data": {
      "text/plain": [
       "<AxesSubplot:>"
      ]
     },
     "execution_count": 484,
     "metadata": {},
     "output_type": "execute_result"
    },
    {
     "data": {
      "image/png": "[encoded data removed]",
      "text/plain": [
       "<Figure size 432x288 with 2 Axes>"
      ]
     },
     "metadata": {
      "needs_background": "light"
     },
     "output_type": "display_data"
    }
   ],
   "source": [
    "import seaborn as sns\n",
    "corMat = data.corr()\n",
    "sns.heatmap(corMat, xticklabels=corMat.columns, yticklabels=corMat.columns, annot=False)"
   ]
  },
  {
   "cell_type": "code",
   "execution_count": 478,
   "metadata": {},
   "outputs": [],
   "source": [
    "def classificationerror(y_pred,y_true):\n",
    "    for i in range (0,len(y_pred)):\n",
    "        if y_pred[i] >= 0.5:\n",
    "            y_pred[i] = 1\n",
    "        else:\n",
    "            y_pred[i] = 0\n",
    "    return sum(y_pred == y_true)/36\n",
    "def selectedVar(model):\n",
    "    h = sum(model.coef_ == 0)\n",
    "    return (7128 - h)"
   ]
  },
  {
   "cell_type": "code",
   "execution_count": 479,
   "metadata": {},
   "outputs": [
    {
     "name": "stdout",
     "output_type": "stream",
     "text": [
      "[0.88267182 0.84712323 0.91552316 0.81266586 0.72703817 0.78919289\n",
      " 0.85925449 0.72800925 0.84213499 0.59844043 1.10111452 0.779407\n",
      " 1.09529739 0.97129223 0.69398871 0.74242173 0.95319017 1.20888869\n",
      " 0.92183671 0.78487037 0.82314015 0.93939013 0.80202321 0.96579906\n",
      " 0.76544913 0.22016285 0.37231    0.05673071 0.16546761 0.35578033\n",
      " 0.4080644  0.32634992 0.09786414 0.223033   0.45932975 0.20610437]\n",
      "1.0\n",
      "7128\n"
     ]
    }
   ],
   "source": [
    "OLS_microarray = LinearRegression(normalize = True).fit(X_train,y_train)\n",
    "y_pred1 = OLS_microarray.predict(X_test)\n",
    "print(y_pred1)\n",
    "print(classificationerror(y_pred1,y_test))\n",
    "print(selectedVar(OLS_microarray))"
   ]
  },
  {
   "cell_type": "code",
   "execution_count": 481,
   "metadata": {
    "scrolled": true
   },
   "outputs": [
    {
     "name": "stdout",
     "output_type": "stream",
     "text": [
      "Lasso:\n",
      "0.9166666666666666\n",
      "24\n",
      "Ridge:\n",
      "1.0\n",
      "7128\n",
      "Elastic Net:\n",
      "0.9722222222222222\n",
      "54\n"
     ]
    }
   ],
   "source": [
    "lasso_ma = LassoCV(normalize = True).fit(X_train,y_train)\n",
    "print(\"Lasso:\")\n",
    "y_pred2 = lasso_ma.predict(X_test)\n",
    "print(classificationerror(y_pred2,y_test))\n",
    "print(selectedVar(lasso_ma))\n",
    "\n",
    "###########\n",
    "ridge_ma = RidgeCV(normalize = True).fit(X_train,y_train)\n",
    "print(\"Ridge:\")\n",
    "y_pred3 = ridge_ma.predict(X_test)\n",
    "print(classificationerror(y_pred3,y_test))\n",
    "print(selectedVar(ridge_ma))\n",
    "###########\n",
    "l1ratio = [0.05, 0.1, 0.25, 0.5, 0.75, 0.9, 0.95]\n",
    "ElasticNet_ma = ElasticNetCV(l1_ratio = l1ratio, cv = 10, normalize = True).fit(X_train,y_train)\n",
    "print(\"Elastic Net:\")\n",
    "y_pred4 = ElasticNet_ma.predict(X_test)\n",
    "print(classificationerror(y_pred4,y_test))\n",
    "print(selectedVar(ElasticNet_ma))"
   ]
  }
 ],
 "metadata": {
  "kernelspec": {
   "display_name": "Python 3",
   "language": "python",
   "name": "python3"
  },
  "language_info": {
   "codemirror_mode": {
    "name": "ipython",
    "version": 3
   },
   "file_extension": ".py",
   "mimetype": "text/x-python",
   "name": "python",
   "nbconvert_exporter": "python",
   "pygments_lexer": "ipython3",
   "version": "3.8.5"
  }
 },
 "nbformat": 4,
 "nbformat_minor": 4
}
